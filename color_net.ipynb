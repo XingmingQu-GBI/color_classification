{
 "cells": [
  {
   "cell_type": "code",
   "execution_count": 1,
   "metadata": {},
   "outputs": [],
   "source": [
    "import matplotlib\n",
    "matplotlib.use(\"Agg\")\n",
    "\n",
    "# import the necessary packages\n",
    "from tensorflow.keras.optimizers import Adam\n",
    "from tensorflow.keras.preprocessing.image import img_to_array\n",
    "from tensorflow.keras.callbacks import EarlyStopping,ModelCheckpoint\n",
    "from sklearn.preprocessing import LabelBinarizer\n",
    "from sklearn.model_selection import train_test_split\n",
    "from imutils import paths\n",
    "import matplotlib.pyplot as plt\n",
    "import numpy as np\n",
    "import argparse\n",
    "import random\n",
    "import pickle\n",
    "import cv2\n",
    "import os\n",
    "import efficientnet.tfkeras as efn \n",
    "from tensorflow.keras.models import Model,Sequential\n",
    "from tensorflow.keras.layers import BatchNormalization\n",
    "from tensorflow.keras.layers import Conv2D,GlobalAveragePooling2D\n",
    "from tensorflow.keras.layers import MaxPooling2D\n",
    "from tensorflow.keras.layers import Activation\n",
    "from tensorflow.keras.layers import Dropout\n",
    "from tensorflow.keras.layers import Lambda\n",
    "from tensorflow.keras.layers import Dense\n",
    "from tensorflow.keras.layers import Flatten\n",
    "from tensorflow.keras.layers import Input\n",
    "import tensorflow as tf"
   ]
  },
  {
   "cell_type": "code",
   "execution_count": null,
   "metadata": {},
   "outputs": [],
   "source": []
  },
  {
   "cell_type": "code",
   "execution_count": null,
   "metadata": {},
   "outputs": [],
   "source": []
  },
  {
   "cell_type": "code",
   "execution_count": 2,
   "metadata": {},
   "outputs": [],
   "source": [
    "def build_efn(numColors,finalAct=\"softmax\"):\n",
    "    # initialize the input shape and channel dimension (this code\n",
    "    # assumes you are using TensorFlow which utilizes channels\n",
    "    # last ordering)\n",
    "    inputShape = (224, 224, 3)\n",
    "    base_model = efn.EfficientNetB0(weights='imagenet',include_top=False,input_shape = inputShape)    \n",
    "    model = Sequential()\n",
    "    model.add(base_model)\n",
    "    model.add(GlobalAveragePooling2D(name=\"gap\"))\n",
    "    model.add(Dropout(0.5))\n",
    "    model.add(Dense(numColors,activation=finalAct,name=\"color_output\"))\n",
    "\n",
    "    return model\n",
    "\n",
    "def build(width, height, numColors,\n",
    "    finalAct=\"softmax\"):\n",
    "    # initialize the input shape and channel dimension (this code\n",
    "    # assumes you are using TensorFlow which utilizes channels\n",
    "    # last ordering)\n",
    "    inputShape = (height, width, 3)\n",
    "    chanDim = -1\n",
    "\n",
    "    # construct both the \"category\" and \"color\" sub-networks\n",
    "    inputs = Input(shape=inputShape)\n",
    "\n",
    "    colorBranch = build_color_branch(inputs,\n",
    "        numColors, finalAct=finalAct, chanDim=chanDim)\n",
    "\n",
    "    # create the model using our input (the batch of images) and\n",
    "    # two separate outputs -- one for the clothing category\n",
    "    # branch and another for the color branch, respectively\n",
    "    model = Model(\n",
    "        inputs=inputs,\n",
    "        outputs=colorBranch,\n",
    "        name=\"colornet\")\n",
    "\n",
    "    # return the constructed network architecture\n",
    "    return model\n",
    "\n",
    "def build_color_branch(inputs, numColors, finalAct=\"softmax\",\n",
    "    chanDim=-1):\n",
    "    # CONV => RELU => POOL\n",
    "    x = Conv2D(16, (3, 3), padding=\"same\")(inputs)\n",
    "    x = Activation(\"relu\")(x)\n",
    "    x = BatchNormalization(axis=chanDim)(x)\n",
    "    x = MaxPooling2D(pool_size=(3, 3))(x)\n",
    "    x = Dropout(0.25)(x)\n",
    "\n",
    "    # CONV => RELU => POOL\n",
    "    x = Conv2D(32, (3, 3), padding=\"same\")(x)\n",
    "    x = Activation(\"relu\")(x)\n",
    "    x = BatchNormalization(axis=chanDim)(x)\n",
    "    x = MaxPooling2D(pool_size=(2, 2))(x)\n",
    "    x = Dropout(0.25)(x)\n",
    "\n",
    "    # CONV => RELU => POOL\n",
    "    x = Conv2D(32, (3, 3), padding=\"same\")(x)\n",
    "    x = Activation(\"relu\")(x)\n",
    "    x = BatchNormalization(axis=chanDim)(x)\n",
    "    x = MaxPooling2D(pool_size=(2, 2))(x)\n",
    "    x = Dropout(0.25)(x)\n",
    "\n",
    "    # define a branch of output layers for the number of different\n",
    "    # colors (i.e., red, black, blue, etc.)\n",
    "    x = Flatten()(x)\n",
    "    x = Dense(128)(x)\n",
    "    x = Activation(\"relu\")(x)\n",
    "    x = BatchNormalization()(x)\n",
    "    x = Dropout(0.5)(x)\n",
    "    x = Dense(numColors)(x)\n",
    "    x = Activation(finalAct, name=\"color_output\")(x)\n",
    "\n",
    "    # return the color prediction sub-network\n",
    "    return x"
   ]
  },
  {
   "cell_type": "code",
   "execution_count": 3,
   "metadata": {},
   "outputs": [
    {
     "name": "stdout",
     "output_type": "stream",
     "text": [
      "[INFO] loading images...\n"
     ]
    }
   ],
   "source": [
    "# initialize the number of epochs to train for, initial learning rate,\n",
    "# batch size, and image dimensions\n",
    "EPOCHS = 30\n",
    "INIT_LR = 1e-3\n",
    "BS = 32\n",
    "IMAGE_DIMS = (128, 128, 3)\n",
    "\n",
    "# grab the image paths and randomly shuffle them\n",
    "print(\"[INFO] loading images...\")\n",
    "imagePaths = sorted(list(paths.list_images('../dataset_resize_128/')))\n",
    "random.seed(42)\n",
    "random.shuffle(imagePaths)"
   ]
  },
  {
   "cell_type": "code",
   "execution_count": 4,
   "metadata": {},
   "outputs": [
    {
     "name": "stdout",
     "output_type": "stream",
     "text": [
      "[INFO] data matrix: 3272 images (1256.45MB)\n"
     ]
    }
   ],
   "source": [
    "# initialize the data, clothing category labels (i.e., shirts, jeans,\n",
    "# dresses, etc.) along with the color labels (i.e., red, blue, etc.)\n",
    "data = []\n",
    "colorLabels = []\n",
    "\n",
    "# loop over the input images\n",
    "for imagePath in imagePaths:\n",
    "\t# load the image, pre-process it, and store it in the data list\n",
    "\timage = cv2.imread(imagePath)\n",
    "# \timage = cv2.resize(image, (IMAGE_DIMS[1], IMAGE_DIMS[0]))\n",
    "\timage = cv2.cvtColor(image, cv2.COLOR_BGR2RGB)\n",
    "\timage = img_to_array(image)\n",
    "\tdata.append(image)\n",
    "\n",
    "\t# extract the clothing color and category from the path and\n",
    "\t# update the respective lists\n",
    "\t(color, cat) = imagePath.split(os.path.sep)[-2].split(\"_\")\n",
    "\tcolorLabels.append(color)\n",
    "\n",
    "# scale the raw pixel intensities to the range [0, 1] and convert to\n",
    "# a NumPy array\n",
    "data = np.array(data, dtype=\"float\") / 255.0\n",
    "print(\"[INFO] data matrix: {} images ({:.2f}MB)\".format(\n",
    "\tlen(imagePaths), data.nbytes / (1024 * 1000.0)))\n"
   ]
  },
  {
   "cell_type": "code",
   "execution_count": 5,
   "metadata": {},
   "outputs": [
    {
     "name": "stdout",
     "output_type": "stream",
     "text": [
      "['black' 'blue' 'brown' 'gray' 'green' 'orange' 'pink' 'purple' 'red'\n",
      " 'silver' 'white' 'yellow']\n",
      "[INFO] binarizing labels...\n"
     ]
    }
   ],
   "source": [
    "print(np.unique(colorLabels))\n",
    "# binarize both sets of labels\n",
    "print(\"[INFO] binarizing labels...\")\n",
    "colorLB = LabelBinarizer()\n",
    "colorLabels = colorLB.fit_transform(colorLabels)\n",
    "\n",
    "# partition the data into training and testing splits using 80% of\n",
    "# the data for training and the remaining 20% for testing\n",
    "split = train_test_split(data,colorLabels,stratify = colorLabels,\n",
    "\ttest_size=0.2)\n",
    "(trainX, testX, trainColorY, testColorY) = split"
   ]
  },
  {
   "cell_type": "code",
   "execution_count": 6,
   "metadata": {},
   "outputs": [
    {
     "name": "stdout",
     "output_type": "stream",
     "text": [
      "WARNING:tensorflow:From /usr/local/lib/python3.5/dist-packages/tensorflow_core/python/ops/resource_variable_ops.py:1630: calling BaseResourceVariable.__init__ (from tensorflow.python.ops.resource_variable_ops) with constraint is deprecated and will be removed in a future version.\n",
      "Instructions for updating:\n",
      "If using Keras pass *_constraint arguments to layers.\n",
      "Model: \"colornet\"\n",
      "_________________________________________________________________\n",
      "Layer (type)                 Output Shape              Param #   \n",
      "=================================================================\n",
      "input_1 (InputLayer)         [(None, 128, 128, 3)]     0         \n",
      "_________________________________________________________________\n",
      "conv2d (Conv2D)              (None, 128, 128, 16)      448       \n",
      "_________________________________________________________________\n",
      "activation (Activation)      (None, 128, 128, 16)      0         \n",
      "_________________________________________________________________\n",
      "batch_normalization (BatchNo (None, 128, 128, 16)      64        \n",
      "_________________________________________________________________\n",
      "max_pooling2d (MaxPooling2D) (None, 42, 42, 16)        0         \n",
      "_________________________________________________________________\n",
      "dropout (Dropout)            (None, 42, 42, 16)        0         \n",
      "_________________________________________________________________\n",
      "conv2d_1 (Conv2D)            (None, 42, 42, 32)        4640      \n",
      "_________________________________________________________________\n",
      "activation_1 (Activation)    (None, 42, 42, 32)        0         \n",
      "_________________________________________________________________\n",
      "batch_normalization_1 (Batch (None, 42, 42, 32)        128       \n",
      "_________________________________________________________________\n",
      "max_pooling2d_1 (MaxPooling2 (None, 21, 21, 32)        0         \n",
      "_________________________________________________________________\n",
      "dropout_1 (Dropout)          (None, 21, 21, 32)        0         \n",
      "_________________________________________________________________\n",
      "conv2d_2 (Conv2D)            (None, 21, 21, 32)        9248      \n",
      "_________________________________________________________________\n",
      "activation_2 (Activation)    (None, 21, 21, 32)        0         \n",
      "_________________________________________________________________\n",
      "batch_normalization_2 (Batch (None, 21, 21, 32)        128       \n",
      "_________________________________________________________________\n",
      "max_pooling2d_2 (MaxPooling2 (None, 10, 10, 32)        0         \n",
      "_________________________________________________________________\n",
      "dropout_2 (Dropout)          (None, 10, 10, 32)        0         \n",
      "_________________________________________________________________\n",
      "flatten (Flatten)            (None, 3200)              0         \n",
      "_________________________________________________________________\n",
      "dense (Dense)                (None, 128)               409728    \n",
      "_________________________________________________________________\n",
      "activation_3 (Activation)    (None, 128)               0         \n",
      "_________________________________________________________________\n",
      "batch_normalization_3 (Batch (None, 128)               512       \n",
      "_________________________________________________________________\n",
      "dropout_3 (Dropout)          (None, 128)               0         \n",
      "_________________________________________________________________\n",
      "dense_1 (Dense)              (None, 12)                1548      \n",
      "_________________________________________________________________\n",
      "color_output (Activation)    (None, 12)                0         \n",
      "=================================================================\n",
      "Total params: 426,444\n",
      "Trainable params: 426,028\n",
      "Non-trainable params: 416\n",
      "_________________________________________________________________\n"
     ]
    }
   ],
   "source": [
    "# model = build(numColors=len(colorLB.classes_),finalAct=\"softmax\")\n",
    "model = build(IMAGE_DIMS[0], IMAGE_DIMS[1],numColors=len(colorLB.classes_),\n",
    "    finalAct=\"softmax\")\n",
    "\n",
    "model.summary()\n",
    "model.compile(loss='categorical_crossentropy',\n",
    "                  optimizer='adam',\n",
    "                  metrics=['accuracy'])"
   ]
  },
  {
   "cell_type": "code",
   "execution_count": null,
   "metadata": {},
   "outputs": [],
   "source": []
  },
  {
   "cell_type": "code",
   "execution_count": 7,
   "metadata": {},
   "outputs": [
    {
     "name": "stdout",
     "output_type": "stream",
     "text": [
      "Train on 2617 samples, validate on 655 samples\n",
      "Epoch 1/50\n",
      "2560/2617 [============================>.] - ETA: 0s - loss: 1.1796 - acc: 0.6719\n",
      "Epoch 00001: val_loss improved from inf to 3.15306, saving model to output/bestmodel.h5\n",
      "2617/2617 [==============================] - 5s 2ms/sample - loss: 1.1650 - acc: 0.6756 - val_loss: 3.1531 - val_acc: 0.3435\n",
      "Epoch 2/50\n",
      "2592/2617 [============================>.] - ETA: 0s - loss: 0.5251 - acc: 0.8345\n",
      "Epoch 00002: val_loss did not improve from 3.15306\n",
      "2617/2617 [==============================] - 2s 580us/sample - loss: 0.5243 - acc: 0.8345 - val_loss: 3.2409 - val_acc: 0.1557\n",
      "Epoch 3/50\n",
      "2528/2617 [===========================>..] - ETA: 0s - loss: 0.3977 - acc: 0.8742\n",
      "Epoch 00003: val_loss improved from 3.15306 to 3.06240, saving model to output/bestmodel.h5\n",
      "2617/2617 [==============================] - 2s 592us/sample - loss: 0.3964 - acc: 0.8739 - val_loss: 3.0624 - val_acc: 0.1496\n",
      "Epoch 4/50\n",
      "2560/2617 [============================>.] - ETA: 0s - loss: 0.3365 - acc: 0.8898\n",
      "Epoch 00004: val_loss improved from 3.06240 to 2.39380, saving model to output/bestmodel.h5\n",
      "2617/2617 [==============================] - 2s 602us/sample - loss: 0.3389 - acc: 0.8896 - val_loss: 2.3938 - val_acc: 0.3099\n",
      "Epoch 5/50\n",
      "2560/2617 [============================>.] - ETA: 0s - loss: 0.2865 - acc: 0.9164\n",
      "Epoch 00005: val_loss improved from 2.39380 to 1.36987, saving model to output/bestmodel.h5\n",
      "2617/2617 [==============================] - 2s 594us/sample - loss: 0.2856 - acc: 0.9167 - val_loss: 1.3699 - val_acc: 0.5573\n",
      "Epoch 6/50\n",
      "2592/2617 [============================>.] - ETA: 0s - loss: 0.2603 - acc: 0.9225\n",
      "Epoch 00006: val_loss improved from 1.36987 to 1.11702, saving model to output/bestmodel.h5\n",
      "2617/2617 [==============================] - 2s 591us/sample - loss: 0.2593 - acc: 0.9224 - val_loss: 1.1170 - val_acc: 0.6992\n",
      "Epoch 7/50\n",
      "2528/2617 [===========================>..] - ETA: 0s - loss: 0.1952 - acc: 0.9387\n",
      "Epoch 00007: val_loss improved from 1.11702 to 0.56053, saving model to output/bestmodel.h5\n",
      "2617/2617 [==============================] - 2s 590us/sample - loss: 0.1980 - acc: 0.9373 - val_loss: 0.5605 - val_acc: 0.8427\n",
      "Epoch 8/50\n",
      "2592/2617 [============================>.] - ETA: 0s - loss: 0.1925 - acc: 0.9417\n",
      "Epoch 00008: val_loss did not improve from 0.56053\n",
      "2617/2617 [==============================] - 2s 575us/sample - loss: 0.1942 - acc: 0.9412 - val_loss: 0.7074 - val_acc: 0.7908\n",
      "Epoch 9/50\n",
      "2592/2617 [============================>.] - ETA: 0s - loss: 0.1912 - acc: 0.9383\n",
      "Epoch 00009: val_loss did not improve from 0.56053\n",
      "2617/2617 [==============================] - 2s 576us/sample - loss: 0.1931 - acc: 0.9373 - val_loss: 0.9369 - val_acc: 0.8153\n",
      "Epoch 10/50\n",
      "2528/2617 [===========================>..] - ETA: 0s - loss: 0.2014 - acc: 0.9399\n",
      "Epoch 00010: val_loss improved from 0.56053 to 0.40384, saving model to output/bestmodel.h5\n",
      "2617/2617 [==============================] - 2s 589us/sample - loss: 0.2016 - acc: 0.9408 - val_loss: 0.4038 - val_acc: 0.8962\n",
      "Epoch 11/50\n",
      "2496/2617 [===========================>..] - ETA: 0s - loss: 0.1764 - acc: 0.9411\n",
      "Epoch 00011: val_loss improved from 0.40384 to 0.30537, saving model to output/bestmodel.h5\n",
      "2617/2617 [==============================] - 2s 596us/sample - loss: 0.1760 - acc: 0.9404 - val_loss: 0.3054 - val_acc: 0.9115\n",
      "Epoch 12/50\n",
      "2496/2617 [===========================>..] - ETA: 0s - loss: 0.1783 - acc: 0.9451\n",
      "Epoch 00012: val_loss did not improve from 0.30537\n",
      "2617/2617 [==============================] - 1s 571us/sample - loss: 0.1742 - acc: 0.9461 - val_loss: 0.3556 - val_acc: 0.9115\n",
      "Epoch 13/50\n",
      "2560/2617 [============================>.] - ETA: 0s - loss: 0.1564 - acc: 0.9547\n",
      "Epoch 00013: val_loss did not improve from 0.30537\n",
      "2617/2617 [==============================] - 2s 577us/sample - loss: 0.1587 - acc: 0.9534 - val_loss: 0.4795 - val_acc: 0.8992\n",
      "Epoch 14/50\n",
      "2496/2617 [===========================>..] - ETA: 0s - loss: 0.1223 - acc: 0.9615\n",
      "Epoch 00014: val_loss improved from 0.30537 to 0.30138, saving model to output/bestmodel.h5\n",
      "2617/2617 [==============================] - 2s 597us/sample - loss: 0.1243 - acc: 0.9606 - val_loss: 0.3014 - val_acc: 0.9389\n",
      "Epoch 15/50\n",
      "2528/2617 [===========================>..] - ETA: 0s - loss: 0.1422 - acc: 0.9585\n",
      "Epoch 00015: val_loss did not improve from 0.30138\n",
      "2617/2617 [==============================] - 1s 572us/sample - loss: 0.1422 - acc: 0.9576 - val_loss: 1.1237 - val_acc: 0.7740\n",
      "Epoch 16/50\n",
      "2592/2617 [============================>.] - ETA: 0s - loss: 0.1179 - acc: 0.9645\n",
      "Epoch 00016: val_loss did not improve from 0.30138\n",
      "2617/2617 [==============================] - 2s 577us/sample - loss: 0.1188 - acc: 0.9645 - val_loss: 0.3198 - val_acc: 0.9237\n",
      "Epoch 17/50\n",
      "2592/2617 [============================>.] - ETA: 0s - loss: 0.1019 - acc: 0.9680\n",
      "Epoch 00017: val_loss did not improve from 0.30138\n",
      "2617/2617 [==============================] - 2s 578us/sample - loss: 0.1040 - acc: 0.9668 - val_loss: 0.4812 - val_acc: 0.8504\n",
      "Epoch 18/50\n",
      "2592/2617 [============================>.] - ETA: 0s - loss: 0.0959 - acc: 0.9691\n",
      "Epoch 00018: val_loss did not improve from 0.30138\n",
      "2617/2617 [==============================] - 2s 576us/sample - loss: 0.0972 - acc: 0.9690 - val_loss: 0.3569 - val_acc: 0.9237\n",
      "Epoch 19/50\n",
      "2528/2617 [===========================>..] - ETA: 0s - loss: 0.1252 - acc: 0.9561\n",
      "Epoch 00019: val_loss improved from 0.30138 to 0.24453, saving model to output/bestmodel.h5\n",
      "2617/2617 [==============================] - 2s 592us/sample - loss: 0.1269 - acc: 0.9549 - val_loss: 0.2445 - val_acc: 0.9359\n",
      "Epoch 20/50\n",
      "2496/2617 [===========================>..] - ETA: 0s - loss: 0.1063 - acc: 0.9683\n",
      "Epoch 00020: val_loss did not improve from 0.24453\n",
      "2617/2617 [==============================] - 2s 589us/sample - loss: 0.1062 - acc: 0.9679 - val_loss: 0.3879 - val_acc: 0.9115\n",
      "Epoch 21/50\n",
      "2528/2617 [===========================>..] - ETA: 0s - loss: 0.0884 - acc: 0.9691\n",
      "Epoch 00021: val_loss improved from 0.24453 to 0.21476, saving model to output/bestmodel.h5\n",
      "2617/2617 [==============================] - 2s 609us/sample - loss: 0.0866 - acc: 0.9698 - val_loss: 0.2148 - val_acc: 0.9420\n",
      "Epoch 22/50\n",
      "2560/2617 [============================>.] - ETA: 0s - loss: 0.0919 - acc: 0.9688\n",
      "Epoch 00022: val_loss improved from 0.21476 to 0.18906, saving model to output/bestmodel.h5\n",
      "2617/2617 [==============================] - 2s 606us/sample - loss: 0.0910 - acc: 0.9690 - val_loss: 0.1891 - val_acc: 0.9557\n",
      "Epoch 23/50\n",
      "2592/2617 [============================>.] - ETA: 0s - loss: 0.0991 - acc: 0.9676\n",
      "Epoch 00023: val_loss improved from 0.18906 to 0.17199, saving model to output/bestmodel.h5\n",
      "2617/2617 [==============================] - 2s 598us/sample - loss: 0.0992 - acc: 0.9675 - val_loss: 0.1720 - val_acc: 0.9542\n",
      "Epoch 24/50\n",
      "2592/2617 [============================>.] - ETA: 0s - loss: 0.0886 - acc: 0.9745\n",
      "Epoch 00024: val_loss did not improve from 0.17199\n",
      "2617/2617 [==============================] - 2s 603us/sample - loss: 0.0913 - acc: 0.9736 - val_loss: 0.2645 - val_acc: 0.9496\n",
      "Epoch 25/50\n",
      "2560/2617 [============================>.] - ETA: 0s - loss: 0.0685 - acc: 0.9766\n",
      "Epoch 00025: val_loss did not improve from 0.17199\n",
      "2617/2617 [==============================] - 2s 585us/sample - loss: 0.0686 - acc: 0.9767 - val_loss: 0.2841 - val_acc: 0.9313\n",
      "Epoch 26/50\n",
      "2592/2617 [============================>.] - ETA: 0s - loss: 0.0849 - acc: 0.9738\n",
      "Epoch 00026: val_loss did not improve from 0.17199\n",
      "2617/2617 [==============================] - 2s 588us/sample - loss: 0.0844 - acc: 0.9740 - val_loss: 0.4724 - val_acc: 0.9145\n",
      "Epoch 27/50\n",
      "2560/2617 [============================>.] - ETA: 0s - loss: 0.0775 - acc: 0.9777\n",
      "Epoch 00027: val_loss did not improve from 0.17199\n",
      "2617/2617 [==============================] - 2s 604us/sample - loss: 0.0772 - acc: 0.9775 - val_loss: 0.1933 - val_acc: 0.9405\n",
      "Epoch 28/50\n",
      "2528/2617 [===========================>..] - ETA: 0s - loss: 0.0765 - acc: 0.9763\n",
      "Epoch 00028: val_loss did not improve from 0.17199\n",
      "2617/2617 [==============================] - 2s 594us/sample - loss: 0.0749 - acc: 0.9771 - val_loss: 0.9743 - val_acc: 0.8870\n"
     ]
    }
   ],
   "source": [
    "checkpoint = ModelCheckpoint('output/bestmodel.h5', monitor='val_loss', verbose=1, save_best_only=True)\n",
    "history = model.fit(trainX, trainColorY,\n",
    "              batch_size=32,\n",
    "              epochs=50,\n",
    "              validation_data=(testX, testColorY),\n",
    "              callbacks=[EarlyStopping(monitor='val_loss', patience=5),checkpoint], \n",
    "              verbose=1 )"
   ]
  },
  {
   "cell_type": "code",
   "execution_count": 8,
   "metadata": {},
   "outputs": [
    {
     "name": "stdout",
     "output_type": "stream",
     "text": [
      "[INFO] serializing color label binarizer...\n"
     ]
    }
   ],
   "source": [
    "print(\"[INFO] serializing color label binarizer...\")\n",
    "f = open('output/color_lb.pickle', \"wb\")\n",
    "f.write(pickle.dumps(colorLB))\n",
    "f.close()"
   ]
  },
  {
   "cell_type": "code",
   "execution_count": 9,
   "metadata": {},
   "outputs": [],
   "source": [
    "def plotresult(History):\n",
    "    %matplotlib inline\n",
    "    plt.figure(figsize=(10,4))\n",
    "    plt.subplot(2,2,1)\n",
    "    plt.plot(History.history['acc'])\n",
    "\n",
    "    plt.ylabel('Accuracy %')\n",
    "    plt.title('Training')\n",
    "    plt.subplot(2,2,2)\n",
    "    plt.plot(History.history['val_acc'])\n",
    "    plt.title('Validation')\n",
    "\n",
    "    plt.subplot(2,2,3)\n",
    "    plt.plot(History.history['loss'])\n",
    "    plt.ylabel('categorical_crossentropy Training Loss')\n",
    "    plt.xlabel('epochs')\n",
    "\n",
    "    plt.subplot(2,2,4)\n",
    "    plt.plot(History.history['val_loss'])\n",
    "    plt.xlabel('epochs')"
   ]
  },
  {
   "cell_type": "code",
   "execution_count": 10,
   "metadata": {},
   "outputs": [
    {
     "data": {
      "image/png": "[encoded data removed]",
      "text/plain": [
       "<Figure size 720x288 with 4 Axes>"
      ]
     },
     "metadata": {
      "needs_background": "light"
     },
     "output_type": "display_data"
    }
   ],
   "source": [
    "plotresult(history)"
   ]
  },
  {
   "cell_type": "code",
   "execution_count": 16,
   "metadata": {},
   "outputs": [],
   "source": [
    "\n",
    "from sklearn.metrics import classification_report\n",
    "model.load_weights('output/bestmodel.h5')\n",
    "yhat = np.argmax(model.predict(testX),axis=1)\n",
    "label = np.argmax(testColorY,axis=1)"
   ]
  },
  {
   "cell_type": "code",
   "execution_count": 22,
   "metadata": {},
   "outputs": [
    {
     "name": "stdout",
     "output_type": "stream",
     "text": [
      "              precision    recall  f1-score   support\n",
      "\n",
      "       black       0.95      0.97      0.96       149\n",
      "        blue       0.99      0.96      0.98       222\n",
      "       brown       1.00      0.88      0.94        17\n",
      "        gray       0.71      0.88      0.79        17\n",
      "       green       1.00      0.88      0.94        17\n",
      "      orange       0.94      0.94      0.94        18\n",
      "        pink       0.86      0.95      0.90        19\n",
      "      purple       1.00      0.94      0.97        18\n",
      "         red       0.99      0.98      0.99       142\n",
      "      silver       0.60      0.38      0.46         8\n",
      "       white       0.59      1.00      0.74        10\n",
      "      yellow       0.95      1.00      0.97        18\n",
      "\n",
      "    accuracy                           0.95       655\n",
      "   macro avg       0.88      0.90      0.88       655\n",
      "weighted avg       0.96      0.95      0.95       655\n",
      "\n"
     ]
    }
   ],
   "source": [
    "print(classification_report(label, yhat, target_names=colorLB.classes_))"
   ]
  },
  {
   "cell_type": "code",
   "execution_count": 38,
   "metadata": {},
   "outputs": [
    {
     "name": "stdout",
     "output_type": "stream",
     "text": [
      "[[144   1   0   4   0   0   0   0   0   0   0   0]\n",
      " [  2 214   0   0   0   0   0   0   0   2   4   0]\n",
      " [  1   0  15   0   0   0   0   0   1   0   0   0]\n",
      " [  1   0   0  15   0   0   0   0   0   0   1   0]\n",
      " [  2   0   0   0  15   0   0   0   0   0   0   0]\n",
      " [  0   0   0   0   0  17   0   0   0   0   0   1]\n",
      " [  0   1   0   0   0   0  18   0   0   0   0   0]\n",
      " [  0   0   0   0   0   0   1  17   0   0   0   0]\n",
      " [  0   0   0   0   0   1   2   0 139   0   0   0]\n",
      " [  1   0   0   2   0   0   0   0   0   3   2   0]\n",
      " [  0   0   0   0   0   0   0   0   0   0  10   0]\n",
      " [  0   0   0   0   0   0   0   0   0   0   0  18]]\n"
     ]
    }
   ],
   "source": [
    "\n",
    "\n",
    "from sklearn.metrics import confusion_matrix\n",
    "\n",
    "labels = colorLB.classes_\n",
    "cm = confusion_matrix(label, yhat)\n",
    "print(cm)\n"
   ]
  },
  {
   "cell_type": "code",
   "execution_count": 44,
   "metadata": {},
   "outputs": [
    {
     "data": {
      "image/png": "[encoded data removed]",
      "text/plain": [
       "<Figure size 1440x720 with 2 Axes>"
      ]
     },
     "metadata": {
      "needs_background": "light"
     },
     "output_type": "display_data"
    }
   ],
   "source": [
    "import seaborn as sns\n",
    "import matplotlib.pyplot as plt     \n",
    "\n",
    "plt.figure(figsize=(20,10))\n",
    "ax= plt.subplot()\n",
    "sns.heatmap(cm, annot=True, ax = ax); #annot=True to annotate cells\n",
    "\n",
    "# labels, title and ticks\n",
    "ax.set_xlabel('Predicted labels');ax.set_ylabel('True labels'); \n",
    "ax.set_title('Confusion Matrix'); \n",
    "ax.xaxis.set_ticklabels(labels); ax.yaxis.set_ticklabels(labels);"
   ]
  },
  {
   "cell_type": "code",
   "execution_count": null,
   "metadata": {},
   "outputs": [],
   "source": []
  }
 ],
 "metadata": {
  "kernelspec": {
   "display_name": "Python 3",
   "language": "python",
   "name": "python3"
  },
  "language_info": {
   "codemirror_mode": {
    "name": "ipython",
    "version": 3
   },
   "file_extension": ".py",
   "mimetype": "text/x-python",
   "name": "python",
   "nbconvert_exporter": "python",
   "pygments_lexer": "ipython3",
   "version": "3.5.3"
  }
 },
 "nbformat": 4,
 "nbformat_minor": 4
}
